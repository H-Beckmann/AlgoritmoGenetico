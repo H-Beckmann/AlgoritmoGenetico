{
 "cells": [
  {
   "cell_type": "code",
   "execution_count": 9,
   "id": "a6f9d15d",
   "metadata": {},
   "outputs": [],
   "source": [
    "import seaborn as sns\n",
    "from lib.GA import GA"
   ]
  },
  {
   "cell_type": "code",
   "execution_count": 10,
   "id": "a0b5c31b",
   "metadata": {},
   "outputs": [
    {
     "data": {
      "text/plain": [
       "<AxesSubplot:>"
      ]
     },
     "execution_count": 10,
     "metadata": {},
     "output_type": "execute_result"
    },
    {
     "data": {
      "image/png": "[encoded data removed]",
      "text/plain": [
       "<Figure size 432x288 with 1 Axes>"
      ]
     },
     "metadata": {
      "needs_background": "light"
     },
     "output_type": "display_data"
    }
   ],
   "source": [
    "pesos = [3.5, 5.4, 4.7, 1.9, 5.6, 1.3, 3.8, 5.4 , 6.0, 4.6, 5.3, 4.9, 6.6, 6.1, 2.9, 3.9, 1.9, 1.8, 4.8, 5.0]\n",
    "\n",
    "# Inicialização do algoritmo\n",
    "ag = GA(100, 20, GERACAO=100)\n",
    "ag.set_capacidade(30.0)\n",
    "ag.set_pesos(pesos)\n",
    "melhores = ag.evolucao()\n",
    "\n",
    "# melhores\n",
    "sns.lineplot(data=melhores[:,0])"
   ]
  },
  {
   "cell_type": "code",
   "execution_count": 32,
   "id": "0e783f1c",
   "metadata": {},
   "outputs": [],
   "source": [
    "vetmelhores = []\n",
    "def teste(pesos):\n",
    "    if pesos.sum() > 30:\n",
    "        print(\"Peso: \", pesos)\n",
    "        ag = GA(100, pesos.size, GERACAO=100)\n",
    "        ag.set_capacidade(30.0)\n",
    "        ag.set_pesos(pesos)\n",
    "        melhores = ag.evolucao()\n",
    "        vetmelhores.append(melhores[melhores[:,0].argmax()][0])\n",
    "        print(\"Vetor final: \", vetmelhores)\n",
    "        controle = melhores[melhores[:,0].argmax()][1]\n",
    "        controle_invertido = (~controle)+2\n",
    "        aux = pesos*controle_invertido\n",
    "        new = aux[aux!=0]\n",
    "        print(\"Novo: \", new)\n",
    "        print(\" \")\n",
    "        teste(new)\n",
    "    else:\n",
    "        vetmelhores.append(pesos.sum())\n",
    "        print(vetmelhores)\n",
    "    return vetmelhores"
   ]
  },
  {
   "cell_type": "code",
   "execution_count": 33,
   "id": "70c7889f",
   "metadata": {},
   "outputs": [
    {
     "name": "stdout",
     "output_type": "stream",
     "text": [
      "97.32\n",
      "Peso:  [2.12 3.44 2.21 1.79 2.25 0.38 3.92 2.44 2.06 1.36 0.81 4.68 3.42 1.58\n",
      " 3.25 4.76 1.32 3.82 2.56 1.9  0.93 0.56 1.14 4.25 0.46 4.33 0.63 2.98\n",
      " 3.1  3.5  2.04 2.4  4.05 3.97 0.76 2.75 1.84 4.32 2.04 1.2 ]\n",
      "Vetor final:  [29.999999999999996]\n",
      "Novo:  [2.12 2.21 1.79 2.25 3.92 2.44 2.06 1.36 0.81 4.68 1.58 3.25 3.82 2.56\n",
      " 1.9  0.93 0.56 0.46 4.33 3.5  2.04 4.05 3.97 0.76 2.75 4.32 2.04 1.2 ]\n",
      " \n",
      "Peso:  [2.12 2.21 1.79 2.25 3.92 2.44 2.06 1.36 0.81 4.68 1.58 3.25 3.82 2.56\n",
      " 1.9  0.93 0.56 0.46 4.33 3.5  2.04 4.05 3.97 0.76 2.75 4.32 2.04 1.2 ]\n",
      "Vetor final:  [29.999999999999996, 29.990000000000002]\n",
      "Novo:  [2.12 2.25 3.92 2.44 0.81 4.68 1.58 3.25 2.56 0.93 0.46 3.97 0.76 2.75\n",
      " 4.32 2.04 1.2 ]\n",
      " \n",
      "Peso:  [2.12 2.25 3.92 2.44 0.81 4.68 1.58 3.25 2.56 0.93 0.46 3.97 0.76 2.75\n",
      " 4.32 2.04 1.2 ]\n",
      "Vetor final:  [29.999999999999996, 29.990000000000002, 30.0]\n",
      "Novo:  [2.44 0.81 1.58 2.56 0.93 0.46 0.76 2.04]\n",
      " \n",
      "[29.999999999999996, 29.990000000000002, 30.0, 11.58]\n",
      "101.57\n"
     ]
    },
    {
     "data": {
      "text/plain": [
       "array([30.  , 29.99, 30.  , 11.58])"
      ]
     },
     "execution_count": 33,
     "metadata": {},
     "output_type": "execute_result"
    }
   ],
   "source": [
    "import numpy as np\n",
    "peso = np.genfromtxt('pesos2.csv',delimiter=';')\n",
    "print(peso.sum())\n",
    "vet = teste(peso)\n",
    "vetArray = np.array(vet)\n",
    "print(vetArray.sum())\n",
    "vetArray"
   ]
  },
  {
   "cell_type": "code",
   "execution_count": null,
   "id": "f810a072",
   "metadata": {},
   "outputs": [],
   "source": [
    "controle = melhores[melhores[:,0].argmax()][1]\n",
    "controle_invertido = (~controle)+2\n",
    "teste = pesos*controle_invertido\n",
    "new = teste[teste!=0]\n",
    "new"
   ]
  },
  {
   "cell_type": "code",
   "execution_count": 82,
   "id": "9389ff55",
   "metadata": {},
   "outputs": [
    {
     "data": {
      "text/plain": [
       "<AxesSubplot:>"
      ]
     },
     "execution_count": 82,
     "metadata": {},
     "output_type": "execute_result"
    },
    {
     "data": {
      "image/png": "[encoded data removed]",
      "text/plain": [
       "<Figure size 432x288 with 1 Axes>"
      ]
     },
     "metadata": {
      "needs_background": "light"
     },
     "output_type": "display_data"
    }
   ],
   "source": [
    "# Inicialização do algoritmo\n",
    "ag = GA(100, new.size, GERACAO=100)\n",
    "ag.set_capacidade(30.0)\n",
    "ag.set_pesos(new)\n",
    "melhores = ag.evolucao()\n",
    "\n",
    "# melhores\n",
    "sns.lineplot(data=melhores[:,0])"
   ]
  },
  {
   "cell_type": "code",
   "execution_count": 83,
   "id": "77d1da0c",
   "metadata": {
    "scrolled": true
   },
   "outputs": [
    {
     "data": {
      "text/plain": [
       "array([5.6, 3.8, 5.3, 6.1, 1.8, 5. ])"
      ]
     },
     "execution_count": 83,
     "metadata": {},
     "output_type": "execute_result"
    }
   ],
   "source": [
    "controle = melhores[melhores[:,0].argmax()][1]\n",
    "controle_invertido = (~controle)+2\n",
    "teste = new*controle_invertido\n",
    "new = teste[teste!=0]\n",
    "new"
   ]
  },
  {
   "cell_type": "code",
   "execution_count": null,
   "id": "9d836301",
   "metadata": {},
   "outputs": [
    {
     "name": "stderr",
     "output_type": "stream",
     "text": [
      "/tf/work/AG/lib/GA.py:141: RuntimeWarning: invalid value encountered in double_scalars\n",
      "  self.fitness_p[i] = (self.fitness[i] * 100) / fitness_total\n"
     ]
    }
   ],
   "source": [
    "import numpy as np\n",
    "pesos = np.genfromtxt('pesos.csv',delimiter=';')\n",
    "ag = GA(3, pesos.size, GERACAO=2)\n",
    "ag.set_capacidade(30.0)\n",
    "ag.set_pesos(pesos)\n",
    "melhores = ag.evolucao()\n",
    "# melhores\n",
    "sns.lineplot(data=melhores[:,0])\n",
    "\n",
    "# controle = melhores[melhores[:,0].argmax()][1]\n",
    "# controle_invertido = (~controle)+2\n",
    "# teste = pesos*controle_invertido\n",
    "# new = teste[teste!=0]\n",
    "# new"
   ]
  },
  {
   "cell_type": "code",
   "execution_count": null,
   "id": "2bac710a",
   "metadata": {},
   "outputs": [],
   "source": []
  }
 ],
 "metadata": {
  "kernelspec": {
   "display_name": "Python 3",
   "language": "python",
   "name": "python3"
  },
  "language_info": {
   "codemirror_mode": {
    "name": "ipython",
    "version": 3
   },
   "file_extension": ".py",
   "mimetype": "text/x-python",
   "name": "python",
   "nbconvert_exporter": "python",
   "pygments_lexer": "ipython3",
   "version": "3.6.9"
  }
 },
 "nbformat": 4,
 "nbformat_minor": 5
}
