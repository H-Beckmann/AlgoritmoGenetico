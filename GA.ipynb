{
 "cells": [
  {
   "cell_type": "code",
   "execution_count": 110,
   "id": "a6f9d15d",
   "metadata": {},
   "outputs": [],
   "source": [
    "import seaborn as sns\n",
    "from lib.AG import AG"
   ]
  },
  {
   "cell_type": "code",
   "execution_count": 111,
   "id": "a0b5c31b",
   "metadata": {},
   "outputs": [
    {
     "data": {
      "text/plain": [
       "<AxesSubplot:>"
      ]
     },
     "execution_count": 111,
     "metadata": {},
     "output_type": "execute_result"
    },
    {
     "data": {
      "image/png": "[encoded data removed]",
      "text/plain": [
       "<Figure size 432x288 with 1 Axes>"
      ]
     },
     "metadata": {
      "needs_background": "light"
     },
     "output_type": "display_data"
    }
   ],
   "source": [
    "pesos = [3.5, 5.4, 4.7, 1.9, 5.6, 1.3, 3.8, 5.4 , 6.0, 4.6, 5.3, 4.9, 6.6, 6.1, 2.9, 3.9, 1.9, 1.8, 4.8, 5.0]\n",
    "\n",
    "# Inicialização do algoritmo\n",
    "ag = AG(100, 20, GERACAO=100)\n",
    "ag.set_capacidade(30.0)\n",
    "ag.set_pesos(pesos)\n",
    "melhores = ag.evolucao()\n",
    "\n",
    "# melhores\n",
    "sns.lineplot(data=melhores[:,0])"
   ]
  },
  {
   "cell_type": "code",
   "execution_count": 112,
   "id": "0e783f1c",
   "metadata": {},
   "outputs": [],
   "source": [
    "#Funcao para alocar os resultados em um vetor, pega o resultado, armazena e retira do vetor, e chama a função novamente\n",
    "vetmelhores = []\n",
    "def teste(pesos):\n",
    "    if pesos.sum() > 30:\n",
    "        print(\"Peso: \", pesos, pesos.sum())\n",
    "        ag = AG(100, pesos.size, GERACAO=100)\n",
    "        ag.set_capacidade(30.0)\n",
    "        ag.set_pesos(pesos)\n",
    "        melhores = ag.evolucao()\n",
    "        vetmelhores.append(melhores[melhores[:,0].argmax()][0])\n",
    "        print(\"Vetor final: \", vetmelhores)\n",
    "        controle = np.array(melhores[melhores[:,0].argmax()][1])\n",
    "        controle_invertido = (~controle)+2\n",
    "        aux = pesos*controle_invertido\n",
    "        new = aux[aux!=0]\n",
    "        print(\"Novo: \", new, new.sum())\n",
    "        print(\" \")\n",
    "        teste(new)\n",
    "    else:\n",
    "        vetmelhores.append(pesos.sum())\n",
    "        print(vetmelhores)\n",
    "    return vetmelhores"
   ]
  },
  {
   "cell_type": "code",
   "execution_count": 113,
   "id": "70c7889f",
   "metadata": {},
   "outputs": [
    {
     "name": "stdout",
     "output_type": "stream",
     "text": [
      "97.32\n",
      "Peso:  [2.12 3.44 2.21 1.79 2.25 0.38 3.92 2.44 2.06 1.36 0.81 4.68 3.42 1.58\n",
      " 3.25 4.76 1.32 3.82 2.56 1.9  0.93 0.56 1.14 4.25 0.46 4.33 0.63 2.98\n",
      " 3.1  3.5  2.04 2.4  4.05 3.97 0.76 2.75 1.84 4.32 2.04 1.2 ] 97.32\n",
      "Vetor final:  [29.990000000000002]\n",
      "Novo:  [2.12 3.44 2.21 1.79 2.25 3.92 2.06 1.36 0.81 3.42 1.58 3.25 4.76 1.32\n",
      " 3.82 2.56 0.93 0.56 0.46 4.33 2.98 3.5  2.04 2.4  4.05 2.75 1.84 2.04] 68.55000000000001\n",
      " \n",
      "Peso:  [2.12 3.44 2.21 1.79 2.25 3.92 2.06 1.36 0.81 3.42 1.58 3.25 4.76 1.32\n",
      " 3.82 2.56 0.93 0.56 0.46 4.33 2.98 3.5  2.04 2.4  4.05 2.75 1.84 2.04] 68.55000000000001\n",
      "Vetor final:  [29.990000000000002, 30.0]\n",
      "Novo:  [2.12 2.21 1.79 2.25 3.92 2.06 1.36 0.81 1.58 1.32 2.56 0.56 0.46 4.33\n",
      " 2.98 2.04 2.4  4.05 2.75] 41.55\n",
      " \n",
      "Peso:  [2.12 2.21 1.79 2.25 3.92 2.06 1.36 0.81 1.58 1.32 2.56 0.56 0.46 4.33\n",
      " 2.98 2.04 2.4  4.05 2.75] 41.55\n",
      "Vetor final:  [29.990000000000002, 30.0, 30.0]\n",
      "Novo:  [2.12 2.21 2.06 1.36 0.81 1.32 0.56 4.05] 14.489999999999998\n",
      " \n",
      "[29.990000000000002, 30.0, 30.0, 14.489999999999998]\n",
      "104.48\n"
     ]
    },
    {
     "data": {
      "text/plain": [
       "array([29.99, 30.  , 30.  , 14.49])"
      ]
     },
     "execution_count": 113,
     "metadata": {},
     "output_type": "execute_result"
    }
   ],
   "source": [
    "#O problema é: a soma dos pesos da entrada é diferente da soma final, isso acontece por algum motivo desconhecido\n",
    "#O arquivo pesos2.csv contem os 40 primeiros numeros do pesos.csv que foi disponibilizado.\n",
    "import numpy as np\n",
    "peso = np.genfromtxt('pesos2.csv',delimiter=';')\n",
    "print(peso.sum())\n",
    "vet = teste(peso)\n",
    "vetArray = np.array(vet)\n",
    "print(vetArray.sum())\n",
    "vetArray"
   ]
  },
  {
   "cell_type": "code",
   "execution_count": null,
   "id": "f810a072",
   "metadata": {},
   "outputs": [],
   "source": [
    "controle = melhores[melhores[:,0].argmax()][1]\n",
    "controle_invertido = (~controle)+2\n",
    "teste = pesos*controle_invertido\n",
    "new = teste[teste!=0]\n",
    "new"
   ]
  },
  {
   "cell_type": "code",
   "execution_count": null,
   "id": "2bac710a",
   "metadata": {},
   "outputs": [],
   "source": []
  }
 ],
 "metadata": {
  "kernelspec": {
   "display_name": "Python 3",
   "language": "python",
   "name": "python3"
  },
  "language_info": {
   "codemirror_mode": {
    "name": "ipython",
    "version": 3
   },
   "file_extension": ".py",
   "mimetype": "text/x-python",
   "name": "python",
   "nbconvert_exporter": "python",
   "pygments_lexer": "ipython3",
   "version": "3.6.9"
  }
 },
 "nbformat": 4,
 "nbformat_minor": 5
}
